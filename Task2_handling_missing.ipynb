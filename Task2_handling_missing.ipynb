{
 "cells": [
  {
   "cell_type": "markdown",
   "id": "3ddb8224",
   "metadata": {},
   "source": [
    "# Task 2 (in-lab assignment no.2) -  \n",
    "> Note: this task is graded\n",
    "### Building permit Dataset\n",
    "\n",
    "\n",
    "The Building permits dataset (`building_permits.csv`) pertains to all types of structural permits from Jan 1, 2013 - Feb 25th 2018 in San Francisco. Data includes details on application/permit numbers, job addresses, supervisorial districts, and the current status of the applications.\n",
    "\n",
    "Download the dataset from the link provided and store it in your own data or working folder. Import the dataset in the next cell, and work your way through the steps in the subsequent cells.\n",
    "\n",
    "1. Import the dataset and observe the first few rows\n",
    "\n",
    "\n",
    "\n",
    "2. Detect the frequency of missing values as percentage.\n",
    "\n",
    "\n",
    "\n",
    "3. Check the values of the `Street Number Suffix` and `Zipcode` from the building permits datasets. Both of these contain missing values. Which, if either, of these are missing because they don't exist? Which, if either, are missing because they weren't recorded?\n",
    "\n",
    "\n",
    "\n",
    "4. Now that you understand why each feature(suffix and zipcode) is missing, choose an appropriate method to deal with theses missing values. \n",
    "\n",
    "\n",
    "\n",
    "5. For the feature 'Estimated Cost', impute the missing values uisng multi-variate imputation. That is, impute the estimated cost based on its values in another feature (rather than imputing by the mean/median of all estimated costs). \n",
    "\n",
    "\n",
    "\n",
    "6. Create a new dataset at the end with all missing values handled and store as a CSV file.\n",
    "\n"
   ]
  }
 ],
 "metadata": {
  "kernelspec": {
   "display_name": "Python 3 (ipykernel)",
   "language": "python",
   "name": "python3"
  },
  "language_info": {
   "codemirror_mode": {
    "name": "ipython",
    "version": 3
   },
   "file_extension": ".py",
   "mimetype": "text/x-python",
   "name": "python",
   "nbconvert_exporter": "python",
   "pygments_lexer": "ipython3",
   "version": "3.9.16"
  }
 },
 "nbformat": 4,
 "nbformat_minor": 5
}
